{
  "nbformat": 4,
  "nbformat_minor": 0,
  "metadata": {
    "colab": {
      "name": "Proyecto.ipynb",
      "provenance": [],
      "collapsed_sections": [],
      "authorship_tag": "ABX9TyO/XXRVhbGAn8HlMM+3fBU4",
      "include_colab_link": true
    },
    "kernelspec": {
      "name": "python3",
      "display_name": "Python 3"
    },
    "language_info": {
      "name": "python"
    }
  },
  "cells": [
    {
      "cell_type": "markdown",
      "metadata": {
        "id": "view-in-github",
        "colab_type": "text"
      },
      "source": [
        "<a href=\"https://colab.research.google.com/github/NancySM/Laravel-APIs-RESTful-y-webs-Angular/blob/master/Proyecto.ipynb\" target=\"_parent\"><img src=\"https://colab.research.google.com/assets/colab-badge.svg\" alt=\"Open In Colab\"/></a>"
      ]
    },
    {
      "cell_type": "code",
      "metadata": {
        "id": "c8TRD8YHpBVX",
        "colab": {
          "base_uri": "https://localhost:8080/"
        },
        "outputId": "5bcddb56-bc47-458a-b678-dddfc62ac15f"
      },
      "source": [
        "! pip install pyodbc\n",
        "import matplotlib.pyplot as plt"
      ],
      "execution_count": 1,
      "outputs": [
        {
          "output_type": "stream",
          "text": [
            "Collecting pyodbc\n",
            "  Downloading pyodbc-4.0.31.tar.gz (280 kB)\n",
            "\u001b[?25l\r\u001b[K     |█▏                              | 10 kB 27.2 MB/s eta 0:00:01\r\u001b[K     |██▍                             | 20 kB 29.3 MB/s eta 0:00:01\r\u001b[K     |███▌                            | 30 kB 14.6 MB/s eta 0:00:01\r\u001b[K     |████▊                           | 40 kB 10.5 MB/s eta 0:00:01\r\u001b[K     |█████▉                          | 51 kB 8.3 MB/s eta 0:00:01\r\u001b[K     |███████                         | 61 kB 8.6 MB/s eta 0:00:01\r\u001b[K     |████████▏                       | 71 kB 8.0 MB/s eta 0:00:01\r\u001b[K     |█████████▍                      | 81 kB 8.8 MB/s eta 0:00:01\r\u001b[K     |██████████▌                     | 92 kB 8.8 MB/s eta 0:00:01\r\u001b[K     |███████████▊                    | 102 kB 7.7 MB/s eta 0:00:01\r\u001b[K     |████████████▉                   | 112 kB 7.7 MB/s eta 0:00:01\r\u001b[K     |██████████████                  | 122 kB 7.7 MB/s eta 0:00:01\r\u001b[K     |███████████████▏                | 133 kB 7.7 MB/s eta 0:00:01\r\u001b[K     |████████████████▍               | 143 kB 7.7 MB/s eta 0:00:01\r\u001b[K     |█████████████████▌              | 153 kB 7.7 MB/s eta 0:00:01\r\u001b[K     |██████████████████▊             | 163 kB 7.7 MB/s eta 0:00:01\r\u001b[K     |███████████████████▉            | 174 kB 7.7 MB/s eta 0:00:01\r\u001b[K     |█████████████████████           | 184 kB 7.7 MB/s eta 0:00:01\r\u001b[K     |██████████████████████▏         | 194 kB 7.7 MB/s eta 0:00:01\r\u001b[K     |███████████████████████▍        | 204 kB 7.7 MB/s eta 0:00:01\r\u001b[K     |████████████████████████▌       | 215 kB 7.7 MB/s eta 0:00:01\r\u001b[K     |█████████████████████████▊      | 225 kB 7.7 MB/s eta 0:00:01\r\u001b[K     |██████████████████████████▉     | 235 kB 7.7 MB/s eta 0:00:01\r\u001b[K     |████████████████████████████    | 245 kB 7.7 MB/s eta 0:00:01\r\u001b[K     |█████████████████████████████▏  | 256 kB 7.7 MB/s eta 0:00:01\r\u001b[K     |██████████████████████████████▍ | 266 kB 7.7 MB/s eta 0:00:01\r\u001b[K     |███████████████████████████████▌| 276 kB 7.7 MB/s eta 0:00:01\r\u001b[K     |████████████████████████████████| 280 kB 7.7 MB/s \n",
            "\u001b[?25hBuilding wheels for collected packages: pyodbc\n",
            "  Building wheel for pyodbc (setup.py) ... \u001b[?25l\u001b[?25hdone\n",
            "  Created wheel for pyodbc: filename=pyodbc-4.0.31-cp37-cp37m-linux_x86_64.whl size=286873 sha256=eccad2adcd8d7946451c138f4f56b2fc5e24e71b1f4856c0bbff5c93dfc48cc3\n",
            "  Stored in directory: /root/.cache/pip/wheels/b6/90/83/0d14028dd261d703154631f91543fbadae0e5e7247501489d9\n",
            "Successfully built pyodbc\n",
            "Installing collected packages: pyodbc\n",
            "Successfully installed pyodbc-4.0.31\n"
          ],
          "name": "stdout"
        }
      ]
    },
    {
      "cell_type": "code",
      "metadata": {
        "id": "V-J-13ac9LGk"
      },
      "source": [
        "import pandas as pd"
      ],
      "execution_count": 2,
      "outputs": []
    },
    {
      "cell_type": "code",
      "metadata": {
        "id": "ctDzgnEoN4Ps"
      },
      "source": [
        "import pyodbc"
      ],
      "execution_count": 3,
      "outputs": []
    },
    {
      "cell_type": "code",
      "metadata": {
        "id": "L-7PkqEA4iRs",
        "colab": {
          "base_uri": "https://localhost:8080/"
        },
        "outputId": "ad6f2416-cb72-470c-e5f1-b390068b8585"
      },
      "source": [
        "%%sh\n",
        "curl https://packages.microsoft.com/keys/microsoft.asc | apt-key add -\n",
        "curl https://packages.microsoft.com/config/ubuntu/16.04/prod.list > /etc/apt/sources.list.d/mssql-release.list\n",
        "sudo apt-get update\n",
        "sudo ACCEPT_EULA=Y apt-get -q -y install msodbcsql17"
      ],
      "execution_count": 4,
      "outputs": [
        {
          "output_type": "stream",
          "text": [
            "OK\n",
            "Get:1 https://cloud.r-project.org/bin/linux/ubuntu bionic-cran40/ InRelease [3,626 B]\n",
            "Ign:2 https://developer.download.nvidia.com/compute/cuda/repos/ubuntu1804/x86_64  InRelease\n",
            "Ign:3 https://developer.download.nvidia.com/compute/machine-learning/repos/ubuntu1804/x86_64  InRelease\n",
            "Hit:4 https://developer.download.nvidia.com/compute/cuda/repos/ubuntu1804/x86_64  Release\n",
            "Hit:5 https://developer.download.nvidia.com/compute/machine-learning/repos/ubuntu1804/x86_64  Release\n",
            "Get:6 https://packages.microsoft.com/ubuntu/16.04/prod xenial InRelease [4,003 B]\n",
            "Get:8 http://ppa.launchpad.net/c2d4u.team/c2d4u4.0+/ubuntu bionic InRelease [15.9 kB]\n",
            "Get:9 http://security.ubuntu.com/ubuntu bionic-security InRelease [88.7 kB]\n",
            "Hit:11 http://archive.ubuntu.com/ubuntu bionic InRelease\n",
            "Get:12 https://packages.microsoft.com/ubuntu/16.04/prod xenial/main amd64 Packages [246 kB]\n",
            "Get:13 http://archive.ubuntu.com/ubuntu bionic-updates InRelease [88.7 kB]\n",
            "Hit:14 http://ppa.launchpad.net/cran/libgit2/ubuntu bionic InRelease\n",
            "Get:15 http://security.ubuntu.com/ubuntu bionic-security/main amd64 Packages [2,294 kB]\n",
            "Hit:16 http://ppa.launchpad.net/deadsnakes/ppa/ubuntu bionic InRelease\n",
            "Get:17 http://archive.ubuntu.com/ubuntu bionic-backports InRelease [74.6 kB]\n",
            "Hit:18 http://ppa.launchpad.net/graphics-drivers/ppa/ubuntu bionic InRelease\n",
            "Get:19 http://archive.ubuntu.com/ubuntu bionic-updates/multiverse amd64 Packages [34.4 kB]\n",
            "Get:20 http://security.ubuntu.com/ubuntu bionic-security/universe amd64 Packages [1,421 kB]\n",
            "Get:21 http://archive.ubuntu.com/ubuntu bionic-updates/restricted amd64 Packages [575 kB]\n",
            "Get:22 http://security.ubuntu.com/ubuntu bionic-security/restricted amd64 Packages [543 kB]\n",
            "Get:23 http://ppa.launchpad.net/c2d4u.team/c2d4u4.0+/ubuntu bionic/main Sources [1,792 kB]\n",
            "Get:24 http://archive.ubuntu.com/ubuntu bionic-updates/main amd64 Packages [2,729 kB]\n",
            "Get:25 http://archive.ubuntu.com/ubuntu bionic-updates/universe amd64 Packages [2,196 kB]\n",
            "Get:26 http://ppa.launchpad.net/c2d4u.team/c2d4u4.0+/ubuntu bionic/main amd64 Packages [917 kB]\n",
            "Fetched 13.0 MB in 4s (3,628 kB/s)\n",
            "Reading package lists...\n",
            "Reading package lists...\n",
            "Building dependency tree...\n",
            "Reading state information...\n",
            "The following package was automatically installed and is no longer required:\n",
            "  libnvidia-common-460\n",
            "Use 'sudo apt autoremove' to remove it.\n",
            "The following additional packages will be installed:\n",
            "  libodbc1 odbcinst odbcinst1debian2 unixodbc unixodbc-dev\n",
            "Suggested packages:\n",
            "  unixodbc-bin\n",
            "The following NEW packages will be installed:\n",
            "  msodbcsql17 unixodbc\n",
            "The following packages will be upgraded:\n",
            "  libodbc1 odbcinst odbcinst1debian2 unixodbc-dev\n",
            "4 upgraded, 2 newly installed, 0 to remove and 50 not upgraded.\n",
            "Need to get 1,458 kB of archives.\n",
            "After this operation, 152 kB of additional disk space will be used.\n",
            "Get:1 https://packages.microsoft.com/ubuntu/16.04/prod xenial/main amd64 odbcinst amd64 2.3.7 [12.0 kB]\n",
            "Get:2 https://packages.microsoft.com/ubuntu/16.04/prod xenial/main amd64 unixodbc-dev amd64 2.3.7 [37.1 kB]\n",
            "Get:3 https://packages.microsoft.com/ubuntu/16.04/prod xenial/main amd64 odbcinst1debian2 amd64 2.3.7 [135 kB]\n",
            "Get:4 https://packages.microsoft.com/ubuntu/16.04/prod xenial/main amd64 libodbc1 amd64 2.3.7 [511 kB]\n",
            "Get:5 https://packages.microsoft.com/ubuntu/16.04/prod xenial/main amd64 unixodbc amd64 2.3.7 [19.6 kB]\n",
            "Get:6 https://packages.microsoft.com/ubuntu/16.04/prod xenial/main amd64 msodbcsql17 amd64 17.8.1.1-1 [744 kB]\n",
            "Fetched 1,458 kB in 0s (4,408 kB/s)\n",
            "(Reading database ... \r(Reading database ... 5%\r(Reading database ... 10%\r(Reading database ... 15%\r(Reading database ... 20%\r(Reading database ... 25%\r(Reading database ... 30%\r(Reading database ... 35%\r(Reading database ... 40%\r(Reading database ... 45%\r(Reading database ... 50%\r(Reading database ... 55%\r(Reading database ... 60%\r(Reading database ... 65%\r(Reading database ... 70%\r(Reading database ... 75%\r(Reading database ... 80%\r(Reading database ... 85%\r(Reading database ... 90%\r(Reading database ... 95%\r(Reading database ... 100%\r(Reading database ... 148486 files and directories currently installed.)\r\n",
            "Preparing to unpack .../0-odbcinst_2.3.7_amd64.deb ...\r\n",
            "Unpacking odbcinst (2.3.7) over (2.3.4-1.1ubuntu3) ...\r\n",
            "Preparing to unpack .../1-unixodbc-dev_2.3.7_amd64.deb ...\r\n",
            "Unpacking unixodbc-dev (2.3.7) over (2.3.4-1.1ubuntu3) ...\r\n",
            "Preparing to unpack .../2-odbcinst1debian2_2.3.7_amd64.deb ...\r\n",
            "Unpacking odbcinst1debian2:amd64 (2.3.7) over (2.3.4-1.1ubuntu3) ...\r\n",
            "Preparing to unpack .../3-libodbc1_2.3.7_amd64.deb ...\r\n",
            "Unpacking libodbc1:amd64 (2.3.7) over (2.3.4-1.1ubuntu3) ...\r\n",
            "Selecting previously unselected package unixodbc.\r\n",
            "Preparing to unpack .../4-unixodbc_2.3.7_amd64.deb ...\r\n",
            "Unpacking unixodbc (2.3.7) ...\r\n",
            "Selecting previously unselected package msodbcsql17.\r\n",
            "Preparing to unpack .../5-msodbcsql17_17.8.1.1-1_amd64.deb ...\r\n",
            "debconf: unable to initialize frontend: Dialog\r\n",
            "debconf: (No usable dialog-like program is installed, so the dialog based frontend cannot be used. at /usr/share/perl5/Debconf/FrontEnd/Dialog.pm line 76.)\r\n",
            "debconf: falling back to frontend: Readline\r\n",
            "Unpacking msodbcsql17 (17.8.1.1-1) ...\r\n",
            "Setting up libodbc1:amd64 (2.3.7) ...\r\n",
            "Setting up odbcinst1debian2:amd64 (2.3.7) ...\r\n",
            "Setting up odbcinst (2.3.7) ...\r\n",
            "Setting up unixodbc (2.3.7) ...\r\n",
            "Setting up unixodbc-dev (2.3.7) ...\r\n",
            "Setting up msodbcsql17 (17.8.1.1-1) ...\r\n",
            "Processing triggers for libc-bin (2.27-3ubuntu1.2) ...\r\n",
            "/sbin/ldconfig.real: /usr/local/lib/python3.7/dist-packages/ideep4py/lib/libmkldnn.so.0 is not a symbolic link\r\n",
            "\r\n",
            "Processing triggers for man-db (2.8.3-2ubuntu0.1) ...\r\n"
          ],
          "name": "stdout"
        },
        {
          "output_type": "stream",
          "text": [
            "  % Total    % Received % Xferd  Average Speed   Time    Time     Time  Current\n",
            "                                 Dload  Upload   Total   Spent    Left  Speed\n",
            "\r  0     0    0     0    0     0      0      0 --:--:-- --:--:-- --:--:--     0Warning: apt-key output should not be parsed (stdout is not a terminal)\n",
            "\r  0     0    0     0    0     0      0      0 --:--:-- --:--:-- --:--:--     0\r100   983  100   983    0     0   2987      0 --:--:-- --:--:-- --:--:--  2978\n",
            "  % Total    % Received % Xferd  Average Speed   Time    Time     Time  Current\n",
            "                                 Dload  Upload   Total   Spent    Left  Speed\n",
            "\r  0     0    0     0    0     0      0      0 --:--:-- --:--:-- --:--:--     0\r100    79  100    79    0     0   1000      0 --:--:-- --:--:-- --:--:--  1000\n",
            "debconf: unable to initialize frontend: Dialog\n",
            "debconf: (No usable dialog-like program is installed, so the dialog based frontend cannot be used. at /usr/share/perl5/Debconf/FrontEnd/Dialog.pm line 76, <> line 6.)\n",
            "debconf: falling back to frontend: Readline\n",
            "debconf: unable to initialize frontend: Readline\n",
            "debconf: (This frontend requires a controlling tty.)\n",
            "debconf: falling back to frontend: Teletype\n",
            "dpkg-preconfigure: unable to re-open stdin: \n"
          ],
          "name": "stderr"
        }
      ]
    },
    {
      "cell_type": "code",
      "metadata": {
        "id": "-2x23OB33ych"
      },
      "source": [
        "server = '204.236.212.83' \n",
        "database = 'SOFOMFINFERSADB_DEV' \n",
        "username = 'usrFinFutura' \n",
        "password = 'usrFinFutura*2020' \n",
        "cnxn = pyodbc.connect('DRIVER={ODBC Driver 17 for SQL Server};SERVER='+server+';DATABASE='+database+';UID='+username+';PWD='+ password)\n",
        "cursor = cnxn.cursor()"
      ],
      "execution_count": 5,
      "outputs": []
    },
    {
      "cell_type": "code",
      "metadata": {
        "colab": {
          "base_uri": "https://localhost:8080/",
          "height": 447
        },
        "id": "2wweqlzo8bVT",
        "outputId": "730c1fe7-95c6-4ba1-ac63-a4d89f9212bc"
      },
      "source": [
        "query = \"SELECT id_solicitud, cliente.id_cliente, cliente.fecha_nacimiento AS 'Fecha_nacimiento', grp.nombre AS 'Grupo', subgrp.nombre AS 'SubGrupo', prod.producto AS 'Producto', monto_solicitado,monto_autorizado, nivel_socioeconomico_nivel, nivel_socioeconomico_casa, nivel_socioeconomico_caracteristicas, nivel_socioeconomico_menaje, nivel_socio_economico_domicilio, bienes_patrimoniales_muebles, bienes_patrimoniales_inmuebles, bienes_patrimoniales_cuenta, bienes_patrimoniales_TC, bienes_patrimoniales_Cred, tipcasa.descripcion AS 'Tipo casa', cliente_antiguedad, nivelrsg.descripcion AS 'NivelRiesgo', per.descripcion AS 'Personalidad', sexo.descripcion AS 'Sexo', aca.descripcion AS 'Nivel academico', cliente_profesion_antiguedad, cliente_profesion_id_rol_laboral, cliente_ingresos_sueldo,cliente_ingresos_otros, cliente_ingresos_total, egresos_renta_hipoteca, egresos_servicios, egresos_alimentacion,egresos_transporte, egresos_escuela, egresos_ropa, egresos_entretenimiento, egresos_deudas FROM CREDITO.Solicitud sol INNER JOIN GENERAL.Grupo grp ON sol.id_grupo = grp.id_grupo INNER JOIN GENERAL.Subgrupo subgrp ON sol.id_sub_grupo = subgrp.id_subgrupo INNER JOIN GENERAL.Producto prod ON sol.id_producto = prod.id_producto INNER JOIN GENERAL.TipoCasa tipcasa ON sol.cliente_id_tipo_casa = tipcasa.id_tipo_casa INNER JOIN GENERAL.NivelRiesgo nivelrsg ON sol.cliente_id_nivel_riesgo= nivelrsg.id_nivel_riesgo INNER JOIN GENERAL.Personalidad per ON sol.cliente_id_personalidad = per.id_personalidad INNER JOIN GENERAL.Sexo sexo ON sol.cliente_id_sexo = sexo.id_sexo INNER JOIN GENERAL.NivelAcademico aca ON sol.cliente_id_nivel_academico = aca.id_nivel_academico INNER JOIN CLIENTE.Cliente cliente ON sol.id_cliente = cliente.id_cliente\"\n",
        "df= pd.read_sql_query(query, cnxn)\n",
        "df.head()"
      ],
      "execution_count": 6,
      "outputs": [
        {
          "output_type": "execute_result",
          "data": {
            "text/html": [
              "<div>\n",
              "<style scoped>\n",
              "    .dataframe tbody tr th:only-of-type {\n",
              "        vertical-align: middle;\n",
              "    }\n",
              "\n",
              "    .dataframe tbody tr th {\n",
              "        vertical-align: top;\n",
              "    }\n",
              "\n",
              "    .dataframe thead th {\n",
              "        text-align: right;\n",
              "    }\n",
              "</style>\n",
              "<table border=\"1\" class=\"dataframe\">\n",
              "  <thead>\n",
              "    <tr style=\"text-align: right;\">\n",
              "      <th></th>\n",
              "      <th>id_solicitud</th>\n",
              "      <th>id_cliente</th>\n",
              "      <th>Fecha_nacimiento</th>\n",
              "      <th>Grupo</th>\n",
              "      <th>SubGrupo</th>\n",
              "      <th>Producto</th>\n",
              "      <th>monto_solicitado</th>\n",
              "      <th>monto_autorizado</th>\n",
              "      <th>nivel_socioeconomico_nivel</th>\n",
              "      <th>nivel_socioeconomico_casa</th>\n",
              "      <th>nivel_socioeconomico_caracteristicas</th>\n",
              "      <th>nivel_socioeconomico_menaje</th>\n",
              "      <th>nivel_socio_economico_domicilio</th>\n",
              "      <th>bienes_patrimoniales_muebles</th>\n",
              "      <th>bienes_patrimoniales_inmuebles</th>\n",
              "      <th>bienes_patrimoniales_cuenta</th>\n",
              "      <th>bienes_patrimoniales_TC</th>\n",
              "      <th>bienes_patrimoniales_Cred</th>\n",
              "      <th>Tipo casa</th>\n",
              "      <th>cliente_antiguedad</th>\n",
              "      <th>NivelRiesgo</th>\n",
              "      <th>Personalidad</th>\n",
              "      <th>Sexo</th>\n",
              "      <th>Nivel academico</th>\n",
              "      <th>cliente_profesion_antiguedad</th>\n",
              "      <th>cliente_profesion_id_rol_laboral</th>\n",
              "      <th>cliente_ingresos_sueldo</th>\n",
              "      <th>cliente_ingresos_otros</th>\n",
              "      <th>cliente_ingresos_total</th>\n",
              "      <th>egresos_renta_hipoteca</th>\n",
              "      <th>egresos_servicios</th>\n",
              "      <th>egresos_alimentacion</th>\n",
              "      <th>egresos_transporte</th>\n",
              "      <th>egresos_escuela</th>\n",
              "      <th>egresos_ropa</th>\n",
              "      <th>egresos_entretenimiento</th>\n",
              "      <th>egresos_deudas</th>\n",
              "    </tr>\n",
              "  </thead>\n",
              "  <tbody>\n",
              "    <tr>\n",
              "      <th>0</th>\n",
              "      <td>4</td>\n",
              "      <td>4</td>\n",
              "      <td>1990-09-08</td>\n",
              "      <td>CLIENTES SILAO</td>\n",
              "      <td>PUBLICO EN GENERAL SILAO</td>\n",
              "      <td>CREDITO GRUPAL</td>\n",
              "      <td>12000.0</td>\n",
              "      <td>12000.0</td>\n",
              "      <td>MEDIO</td>\n",
              "      <td>MEDIO</td>\n",
              "      <td>MEDIO</td>\n",
              "      <td>MEDIO</td>\n",
              "      <td>A SATISFACCION</td>\n",
              "      <td>51000</td>\n",
              "      <td>301000</td>\n",
              "      <td>2500</td>\n",
              "      <td>2500</td>\n",
              "      <td>2500</td>\n",
              "      <td>Vive con familia</td>\n",
              "      <td>5</td>\n",
              "      <td>Bajo</td>\n",
              "      <td>Confiable</td>\n",
              "      <td>MASCULINO</td>\n",
              "      <td>EDUCACION SECUNDARIA</td>\n",
              "      <td>10</td>\n",
              "      <td>1.0</td>\n",
              "      <td>9000.0</td>\n",
              "      <td>2800.0</td>\n",
              "      <td>11800.0</td>\n",
              "      <td>0.0</td>\n",
              "      <td>300.0</td>\n",
              "      <td>2800.0</td>\n",
              "      <td>200.0</td>\n",
              "      <td>0.0</td>\n",
              "      <td>0.0</td>\n",
              "      <td>0.0</td>\n",
              "      <td>400.0</td>\n",
              "    </tr>\n",
              "    <tr>\n",
              "      <th>1</th>\n",
              "      <td>11</td>\n",
              "      <td>11</td>\n",
              "      <td>1993-10-13</td>\n",
              "      <td>CLIENTES SILAO</td>\n",
              "      <td>PUBLICO EN GENERAL SILAO</td>\n",
              "      <td>CREDITO GRUPAL</td>\n",
              "      <td>10000.0</td>\n",
              "      <td>10000.0</td>\n",
              "      <td>MEDIO</td>\n",
              "      <td>None</td>\n",
              "      <td>MEDIO</td>\n",
              "      <td>MEDIO</td>\n",
              "      <td>A SATISFACCION</td>\n",
              "      <td>51000</td>\n",
              "      <td>301000</td>\n",
              "      <td>11000</td>\n",
              "      <td>11000</td>\n",
              "      <td>None</td>\n",
              "      <td>Propietario</td>\n",
              "      <td>5</td>\n",
              "      <td>Bajo</td>\n",
              "      <td>Confiable</td>\n",
              "      <td>FEMENINO</td>\n",
              "      <td>LICENCIATURA</td>\n",
              "      <td>1</td>\n",
              "      <td>2.0</td>\n",
              "      <td>15000.0</td>\n",
              "      <td>0.0</td>\n",
              "      <td>15000.0</td>\n",
              "      <td>2000.0</td>\n",
              "      <td>500.0</td>\n",
              "      <td>4000.0</td>\n",
              "      <td>0.0</td>\n",
              "      <td>0.0</td>\n",
              "      <td>500.0</td>\n",
              "      <td>100.0</td>\n",
              "      <td>0.0</td>\n",
              "    </tr>\n",
              "    <tr>\n",
              "      <th>2</th>\n",
              "      <td>1003</td>\n",
              "      <td>4</td>\n",
              "      <td>1990-09-08</td>\n",
              "      <td>CLIENTES SILAO</td>\n",
              "      <td>PUBLICO EN GENERAL SILAO</td>\n",
              "      <td>CREDITO GRUPAL</td>\n",
              "      <td>12000.0</td>\n",
              "      <td>12000.0</td>\n",
              "      <td>BAJO</td>\n",
              "      <td>POPULAR</td>\n",
              "      <td>POPULAR</td>\n",
              "      <td>BASICOS</td>\n",
              "      <td>A SATISFACCION</td>\n",
              "      <td>49000</td>\n",
              "      <td>151000</td>\n",
              "      <td>2500</td>\n",
              "      <td>2500</td>\n",
              "      <td>2500</td>\n",
              "      <td>Vive con familia</td>\n",
              "      <td>5</td>\n",
              "      <td>Bajo</td>\n",
              "      <td>Confiable</td>\n",
              "      <td>MASCULINO</td>\n",
              "      <td>EDUCACION SECUNDARIA</td>\n",
              "      <td>10</td>\n",
              "      <td>1.0</td>\n",
              "      <td>9000.0</td>\n",
              "      <td>2800.0</td>\n",
              "      <td>11800.0</td>\n",
              "      <td>0.0</td>\n",
              "      <td>300.0</td>\n",
              "      <td>2800.0</td>\n",
              "      <td>200.0</td>\n",
              "      <td>0.0</td>\n",
              "      <td>0.0</td>\n",
              "      <td>0.0</td>\n",
              "      <td>400.0</td>\n",
              "    </tr>\n",
              "    <tr>\n",
              "      <th>3</th>\n",
              "      <td>1004</td>\n",
              "      <td>1003</td>\n",
              "      <td>1990-10-20</td>\n",
              "      <td>CLIENTES SILAO</td>\n",
              "      <td>PUBLICO EN GENERAL SILAO</td>\n",
              "      <td>CREDITO GRUPAL</td>\n",
              "      <td>15000.0</td>\n",
              "      <td>15000.0</td>\n",
              "      <td>BAJO</td>\n",
              "      <td>POPULAR</td>\n",
              "      <td>POPULAR</td>\n",
              "      <td>BASICOS</td>\n",
              "      <td>A SATISFACCION</td>\n",
              "      <td>49000</td>\n",
              "      <td>151000</td>\n",
              "      <td>2500</td>\n",
              "      <td>2500</td>\n",
              "      <td>2500</td>\n",
              "      <td>Renta</td>\n",
              "      <td>2</td>\n",
              "      <td>Bajo</td>\n",
              "      <td>Confiable</td>\n",
              "      <td>MASCULINO</td>\n",
              "      <td>PREPARATORIA</td>\n",
              "      <td>2</td>\n",
              "      <td>1.0</td>\n",
              "      <td>9000.0</td>\n",
              "      <td>6000.0</td>\n",
              "      <td>15000.0</td>\n",
              "      <td>1500.0</td>\n",
              "      <td>800.0</td>\n",
              "      <td>2500.0</td>\n",
              "      <td>0.0</td>\n",
              "      <td>0.0</td>\n",
              "      <td>0.0</td>\n",
              "      <td>0.0</td>\n",
              "      <td>0.0</td>\n",
              "    </tr>\n",
              "    <tr>\n",
              "      <th>4</th>\n",
              "      <td>1005</td>\n",
              "      <td>1004</td>\n",
              "      <td>1987-09-03</td>\n",
              "      <td>CLIENTES SILAO</td>\n",
              "      <td>ESTRELLAS DE SILAO</td>\n",
              "      <td>CREDITO GRUPAL</td>\n",
              "      <td>6000.0</td>\n",
              "      <td>6000.0</td>\n",
              "      <td>None</td>\n",
              "      <td>None</td>\n",
              "      <td>None</td>\n",
              "      <td>None</td>\n",
              "      <td>None</td>\n",
              "      <td>None</td>\n",
              "      <td>None</td>\n",
              "      <td>None</td>\n",
              "      <td>None</td>\n",
              "      <td>None</td>\n",
              "      <td>Propietario</td>\n",
              "      <td>14</td>\n",
              "      <td>Bajo</td>\n",
              "      <td>Confiable</td>\n",
              "      <td>FEMENINO</td>\n",
              "      <td>EDUCACION SECUNDARIA</td>\n",
              "      <td>2</td>\n",
              "      <td>1.0</td>\n",
              "      <td>6000.0</td>\n",
              "      <td>4000.0</td>\n",
              "      <td>10000.0</td>\n",
              "      <td>0.0</td>\n",
              "      <td>700.0</td>\n",
              "      <td>1000.0</td>\n",
              "      <td>0.0</td>\n",
              "      <td>0.0</td>\n",
              "      <td>0.0</td>\n",
              "      <td>0.0</td>\n",
              "      <td>500.0</td>\n",
              "    </tr>\n",
              "  </tbody>\n",
              "</table>\n",
              "</div>"
            ],
            "text/plain": [
              "   id_solicitud  id_cliente  ... egresos_entretenimiento egresos_deudas\n",
              "0             4           4  ...                     0.0          400.0\n",
              "1            11          11  ...                   100.0            0.0\n",
              "2          1003           4  ...                     0.0          400.0\n",
              "3          1004        1003  ...                     0.0            0.0\n",
              "4          1005        1004  ...                     0.0          500.0\n",
              "\n",
              "[5 rows x 37 columns]"
            ]
          },
          "metadata": {},
          "execution_count": 6
        }
      ]
    },
    {
      "cell_type": "code",
      "metadata": {
        "colab": {
          "base_uri": "https://localhost:8080/"
        },
        "id": "GuVK3aIJ9peQ",
        "outputId": "3087652a-a477-4b47-b010-5d6e508bdffc"
      },
      "source": [
        "type(df)"
      ],
      "execution_count": 7,
      "outputs": [
        {
          "output_type": "execute_result",
          "data": {
            "text/plain": [
              "pandas.core.frame.DataFrame"
            ]
          },
          "metadata": {},
          "execution_count": 7
        }
      ]
    },
    {
      "cell_type": "code",
      "metadata": {
        "id": "CeHdgw6iHA0d"
      },
      "source": [
        "#Converting a single column into a different type\n",
        "df['id_solicitud'] = df['id_solicitud'].astype('object')\n",
        "df['id_cliente'] = df['id_cliente'].astype('object')\n",
        "df['Tipo casa'] = df['Tipo casa'].astype('category')\n",
        "df['Tipo casa'] = df['Tipo casa'].astype('category')\n",
        "df['Grupo'] = df['Grupo'].astype('category') \n",
        "df['SubGrupo'] = df['SubGrupo'].astype('category')      \n",
        "df['Producto'] = df['Producto'].astype('category')      \n",
        "df['nivel_socioeconomico_nivel'] = df['nivel_socioeconomico_nivel'].astype('category')             \n",
        "df['nivel_socioeconomico_casa'] = df['nivel_socioeconomico_casa'].astype('category')   \n",
        "df['nivel_socioeconomico_caracteristicas'] = df['nivel_socioeconomico_caracteristicas'].astype('category')     \n",
        "df['nivel_socioeconomico_menaje'] = df['nivel_socioeconomico_menaje'].astype('category')    \n",
        "df['nivel_socio_economico_domicilio'] = df['nivel_socio_economico_domicilio'].astype('category')  \n",
        "df['bienes_patrimoniales_muebles'] = df['bienes_patrimoniales_muebles'].astype('category')        \n",
        "df['NivelRiesgo'] = df['NivelRiesgo'].astype('category') \n",
        "df['Personalidad'] = df['Personalidad'].astype('category')\n",
        "df['Sexo'] = df['Sexo'].astype('category') \n",
        "df['Nivel academico'] = df['Nivel academico'].astype('category')\n",
        "df['bienes_patrimoniales_inmuebles'] = df['bienes_patrimoniales_inmuebles'].astype('float64')\n",
        "df['bienes_patrimoniales_cuenta'] = df['bienes_patrimoniales_cuenta'].astype('float64')\n",
        "df['bienes_patrimoniales_TC'] = df['bienes_patrimoniales_TC'].astype('float64')\n",
        "df['bienes_patrimoniales_TC'] = df['bienes_patrimoniales_TC'].astype('float64')\n",
        "df['bienes_patrimoniales_Cred '] = df['bienes_patrimoniales_Cred'].astype('float64')\n",
        "#df['cliente_profesion_antiguedad'] = df['float64'].astype('object')\n",
        "#df['cliente_antiguedad'] = df['cliente_antiguedad'].astype('object')"
      ],
      "execution_count": 8,
      "outputs": []
    },
    {
      "cell_type": "code",
      "metadata": {
        "colab": {
          "base_uri": "https://localhost:8080/"
        },
        "id": "dX_ZGIIkWzgT",
        "outputId": "b64e2e89-b40c-4f1a-9c89-8c82194da040"
      },
      "source": [
        "df.duplicated()"
      ],
      "execution_count": 9,
      "outputs": [
        {
          "output_type": "execute_result",
          "data": {
            "text/plain": [
              "0      False\n",
              "1      False\n",
              "2      False\n",
              "3      False\n",
              "4      False\n",
              "       ...  \n",
              "868    False\n",
              "869    False\n",
              "870    False\n",
              "871    False\n",
              "872    False\n",
              "Length: 873, dtype: bool"
            ]
          },
          "metadata": {},
          "execution_count": 9
        }
      ]
    },
    {
      "cell_type": "markdown",
      "metadata": {
        "id": "Nr-ECCejbMUd"
      },
      "source": [
        "# ANALÍSIS EXPLORATORIO DE LOS DATOS"
      ]
    },
    {
      "cell_type": "code",
      "metadata": {
        "colab": {
          "base_uri": "https://localhost:8080/"
        },
        "id": "85RUxn1o34fh",
        "outputId": "11b65683-3f24-4b65-e60f-bfd1643f019f"
      },
      "source": [
        "df.isna().sum()"
      ],
      "execution_count": 10,
      "outputs": [
        {
          "output_type": "execute_result",
          "data": {
            "text/plain": [
              "id_solicitud                             0\n",
              "id_cliente                               0\n",
              "Fecha_nacimiento                         0\n",
              "Grupo                                    0\n",
              "SubGrupo                                 0\n",
              "Producto                                 0\n",
              "monto_solicitado                         0\n",
              "monto_autorizado                         0\n",
              "nivel_socioeconomico_nivel              34\n",
              "nivel_socioeconomico_casa               41\n",
              "nivel_socioeconomico_caracteristicas    37\n",
              "nivel_socioeconomico_menaje             41\n",
              "nivel_socio_economico_domicilio         37\n",
              "bienes_patrimoniales_muebles            28\n",
              "bienes_patrimoniales_inmuebles          28\n",
              "bienes_patrimoniales_cuenta             31\n",
              "bienes_patrimoniales_TC                 34\n",
              "bienes_patrimoniales_Cred               37\n",
              "Tipo casa                                0\n",
              "cliente_antiguedad                       0\n",
              "NivelRiesgo                              0\n",
              "Personalidad                             0\n",
              "Sexo                                     0\n",
              "Nivel academico                          0\n",
              "cliente_profesion_antiguedad             7\n",
              "cliente_profesion_id_rol_laboral        18\n",
              "cliente_ingresos_sueldo                  0\n",
              "cliente_ingresos_otros                   0\n",
              "cliente_ingresos_total                   0\n",
              "egresos_renta_hipoteca                   0\n",
              "egresos_servicios                        0\n",
              "egresos_alimentacion                     0\n",
              "egresos_transporte                       0\n",
              "egresos_escuela                          0\n",
              "egresos_ropa                             0\n",
              "egresos_entretenimiento                  0\n",
              "egresos_deudas                           0\n",
              "bienes_patrimoniales_Cred               37\n",
              "dtype: int64"
            ]
          },
          "metadata": {},
          "execution_count": 10
        }
      ]
    },
    {
      "cell_type": "code",
      "metadata": {
        "colab": {
          "base_uri": "https://localhost:8080/"
        },
        "id": "5InR-X8obG07",
        "outputId": "7f192aec-bb10-4a62-bbc5-8f5211940478"
      },
      "source": [
        "df.info()"
      ],
      "execution_count": 11,
      "outputs": [
        {
          "output_type": "stream",
          "text": [
            "<class 'pandas.core.frame.DataFrame'>\n",
            "RangeIndex: 873 entries, 0 to 872\n",
            "Data columns (total 38 columns):\n",
            " #   Column                                Non-Null Count  Dtype         \n",
            "---  ------                                --------------  -----         \n",
            " 0   id_solicitud                          873 non-null    object        \n",
            " 1   id_cliente                            873 non-null    object        \n",
            " 2   Fecha_nacimiento                      873 non-null    datetime64[ns]\n",
            " 3   Grupo                                 873 non-null    category      \n",
            " 4   SubGrupo                              873 non-null    category      \n",
            " 5   Producto                              873 non-null    category      \n",
            " 6   monto_solicitado                      873 non-null    float64       \n",
            " 7   monto_autorizado                      873 non-null    float64       \n",
            " 8   nivel_socioeconomico_nivel            839 non-null    category      \n",
            " 9   nivel_socioeconomico_casa             832 non-null    category      \n",
            " 10  nivel_socioeconomico_caracteristicas  836 non-null    category      \n",
            " 11  nivel_socioeconomico_menaje           832 non-null    category      \n",
            " 12  nivel_socio_economico_domicilio       836 non-null    category      \n",
            " 13  bienes_patrimoniales_muebles          845 non-null    category      \n",
            " 14  bienes_patrimoniales_inmuebles        845 non-null    float64       \n",
            " 15  bienes_patrimoniales_cuenta           842 non-null    float64       \n",
            " 16  bienes_patrimoniales_TC               839 non-null    float64       \n",
            " 17  bienes_patrimoniales_Cred             836 non-null    object        \n",
            " 18  Tipo casa                             873 non-null    category      \n",
            " 19  cliente_antiguedad                    873 non-null    object        \n",
            " 20  NivelRiesgo                           873 non-null    category      \n",
            " 21  Personalidad                          873 non-null    category      \n",
            " 22  Sexo                                  873 non-null    category      \n",
            " 23  Nivel academico                       873 non-null    category      \n",
            " 24  cliente_profesion_antiguedad          866 non-null    object        \n",
            " 25  cliente_profesion_id_rol_laboral      855 non-null    float64       \n",
            " 26  cliente_ingresos_sueldo               873 non-null    float64       \n",
            " 27  cliente_ingresos_otros                873 non-null    float64       \n",
            " 28  cliente_ingresos_total                873 non-null    float64       \n",
            " 29  egresos_renta_hipoteca                873 non-null    float64       \n",
            " 30  egresos_servicios                     873 non-null    float64       \n",
            " 31  egresos_alimentacion                  873 non-null    float64       \n",
            " 32  egresos_transporte                    873 non-null    float64       \n",
            " 33  egresos_escuela                       873 non-null    float64       \n",
            " 34  egresos_ropa                          873 non-null    float64       \n",
            " 35  egresos_entretenimiento               873 non-null    float64       \n",
            " 36  egresos_deudas                        873 non-null    float64       \n",
            " 37  bienes_patrimoniales_Cred             836 non-null    float64       \n",
            "dtypes: category(14), datetime64[ns](1), float64(18), object(5)\n",
            "memory usage: 181.3+ KB\n"
          ],
          "name": "stdout"
        }
      ]
    },
    {
      "cell_type": "code",
      "metadata": {
        "colab": {
          "base_uri": "https://localhost:8080/"
        },
        "id": "KM8ZkVOGYHQk",
        "outputId": "98de40da-2e77-4462-954b-fb6b52023597"
      },
      "source": [
        "#for loop that will iterate through the categorical columns\n",
        "for col_name in ['NivelRiesgo', 'Personalidad', 'Sexo', 'Nivel academico']:\n",
        "    print(col_name)\n",
        "    print(df[col_name].cat.categories)"
      ],
      "execution_count": 12,
      "outputs": [
        {
          "output_type": "stream",
          "text": [
            "NivelRiesgo\n",
            "Index(['Bajo', 'Medio'], dtype='object')\n",
            "Personalidad\n",
            "Index(['Confiable', 'No especificada'], dtype='object')\n",
            "Sexo\n",
            "Index(['FEMENINO', 'MASCULINO', 'No Aplica'], dtype='object')\n",
            "Nivel academico\n",
            "Index(['BACHILLERATO', 'BACHILLERATO TECNOLÓGICO', 'EDUCACION PRIMARIA',\n",
            "       'EDUCACION SECUNDARIA', 'ESPECIALIDAD', 'LICENCIATURA', 'MAESTRIA',\n",
            "       'PREPARATORIA', 'TÉCNICO SUPERIOR UNIVERSITARIO'],\n",
            "      dtype='object')\n"
          ],
          "name": "stdout"
        }
      ]
    },
    {
      "cell_type": "code",
      "metadata": {
        "colab": {
          "base_uri": "https://localhost:8080/",
          "height": 408
        },
        "id": "zvQ0W_fZwl1b",
        "outputId": "97d78cac-a5a6-46ba-bb75-448b42b0ce2c"
      },
      "source": [
        "from datetime import datetime, date \n",
        "dob = df['Fecha_nacimiento']\n",
        "  \n",
        "fecha = pd.DataFrame(data = dob) \n",
        "  \n",
        "def age(born): \n",
        "   # born = datetime.strptime(born, '%Y-%m-%d %H:%M:%S').date() \n",
        "    today = date.today() \n",
        "    return today.year - born.year - ((today.month,  \n",
        "                                      today.day) <(born.month,  \n",
        "                                                    born.day)) \n",
        "  \n",
        "fecha['Age'] = fecha['Fecha_nacimiento'].apply(age)\n",
        "display(fecha)\n"
      ],
      "execution_count": 26,
      "outputs": [
        {
          "output_type": "display_data",
          "data": {
            "text/html": [
              "<div>\n",
              "<style scoped>\n",
              "    .dataframe tbody tr th:only-of-type {\n",
              "        vertical-align: middle;\n",
              "    }\n",
              "\n",
              "    .dataframe tbody tr th {\n",
              "        vertical-align: top;\n",
              "    }\n",
              "\n",
              "    .dataframe thead th {\n",
              "        text-align: right;\n",
              "    }\n",
              "</style>\n",
              "<table border=\"1\" class=\"dataframe\">\n",
              "  <thead>\n",
              "    <tr style=\"text-align: right;\">\n",
              "      <th></th>\n",
              "      <th>Fecha_nacimiento</th>\n",
              "      <th>Age</th>\n",
              "    </tr>\n",
              "  </thead>\n",
              "  <tbody>\n",
              "    <tr>\n",
              "      <th>0</th>\n",
              "      <td>1990-09-08</td>\n",
              "      <td>30</td>\n",
              "    </tr>\n",
              "    <tr>\n",
              "      <th>1</th>\n",
              "      <td>1993-10-13</td>\n",
              "      <td>27</td>\n",
              "    </tr>\n",
              "    <tr>\n",
              "      <th>2</th>\n",
              "      <td>1990-09-08</td>\n",
              "      <td>30</td>\n",
              "    </tr>\n",
              "    <tr>\n",
              "      <th>3</th>\n",
              "      <td>1990-10-20</td>\n",
              "      <td>30</td>\n",
              "    </tr>\n",
              "    <tr>\n",
              "      <th>4</th>\n",
              "      <td>1987-09-03</td>\n",
              "      <td>33</td>\n",
              "    </tr>\n",
              "    <tr>\n",
              "      <th>...</th>\n",
              "      <td>...</td>\n",
              "      <td>...</td>\n",
              "    </tr>\n",
              "    <tr>\n",
              "      <th>868</th>\n",
              "      <td>1989-07-22</td>\n",
              "      <td>32</td>\n",
              "    </tr>\n",
              "    <tr>\n",
              "      <th>869</th>\n",
              "      <td>1992-10-09</td>\n",
              "      <td>28</td>\n",
              "    </tr>\n",
              "    <tr>\n",
              "      <th>870</th>\n",
              "      <td>1974-08-02</td>\n",
              "      <td>47</td>\n",
              "    </tr>\n",
              "    <tr>\n",
              "      <th>871</th>\n",
              "      <td>1939-04-05</td>\n",
              "      <td>82</td>\n",
              "    </tr>\n",
              "    <tr>\n",
              "      <th>872</th>\n",
              "      <td>1950-12-02</td>\n",
              "      <td>70</td>\n",
              "    </tr>\n",
              "  </tbody>\n",
              "</table>\n",
              "<p>873 rows × 2 columns</p>\n",
              "</div>"
            ],
            "text/plain": [
              "    Fecha_nacimiento  Age\n",
              "0         1990-09-08   30\n",
              "1         1993-10-13   27\n",
              "2         1990-09-08   30\n",
              "3         1990-10-20   30\n",
              "4         1987-09-03   33\n",
              "..               ...  ...\n",
              "868       1989-07-22   32\n",
              "869       1992-10-09   28\n",
              "870       1974-08-02   47\n",
              "871       1939-04-05   82\n",
              "872       1950-12-02   70\n",
              "\n",
              "[873 rows x 2 columns]"
            ]
          },
          "metadata": {}
        }
      ]
    },
    {
      "cell_type": "code",
      "metadata": {
        "id": "YkcK3-cNU0uh"
      },
      "source": [
        "#Cambiar el tamaño del gráfico\n",
        "plt.figure(figsize= (20,10))\n",
        "#Muestra las correlaciones que hay entre cada variable entre 0 y 1\n",
        "sns.heatmap(consulta.corr().abs(), annot=True)"
      ],
      "execution_count": null,
      "outputs": []
    },
    {
      "cell_type": "code",
      "metadata": {
        "id": "GzrkpVQCVRYa"
      },
      "source": [
        "corr = consulta.corr().abs()"
      ],
      "execution_count": null,
      "outputs": []
    },
    {
      "cell_type": "code",
      "metadata": {
        "id": "sQ5nRLlOVeqY"
      },
      "source": [
        "corr"
      ],
      "execution_count": null,
      "outputs": []
    },
    {
      "cell_type": "code",
      "metadata": {
        "id": "EPWngUJAW0n9"
      },
      "source": [
        "corr_SP = corr.loc[:,['cliente_ingresos_total']]\n",
        "corr_SP"
      ],
      "execution_count": null,
      "outputs": []
    },
    {
      "cell_type": "code",
      "metadata": {
        "id": "DO1ezme1HoUF"
      },
      "source": [
        "plt."
      ],
      "execution_count": null,
      "outputs": []
    },
    {
      "cell_type": "code",
      "metadata": {
        "id": "Ab5RCC_IPGiF"
      },
      "source": [
        "from sklearn.cluster import KMeans\n",
        "kmeans = KMeans(random_state=42,n_clusters=2)"
      ],
      "execution_count": null,
      "outputs": []
    },
    {
      "cell_type": "code",
      "metadata": {
        "id": "miGvaXQ9PS-F"
      },
      "source": [
        "y_preds = kmeans.predict(X)\n",
        "y_preds"
      ],
      "execution_count": null,
      "outputs": []
    },
    {
      "cell_type": "code",
      "metadata": {
        "id": "Po0N5dZTPnho"
      },
      "source": [
        "#import altair as alt\n",
        "\n",
        "import numpy as np"
      ],
      "execution_count": null,
      "outputs": []
    },
    {
      "cell_type": "code",
      "metadata": {
        "id": "cYtjE4aM5BNd"
      },
      "source": [
        "#color = np.array(['#F5F55E','#B8B044','#8F8935','#454219','#D47C1E','#EB2D4F','#621ED4'])\n",
        "#plt.figure(figsize=(20, 6), dpi=80)\n",
        "#plt.scatter(x=consulta[['id_nivel_riesgo']], y=y_preds, c=color[y_preds])"
      ],
      "execution_count": null,
      "outputs": []
    },
    {
      "cell_type": "code",
      "metadata": {
        "id": "lTctpLorP6NP"
      },
      "source": [
        "#scatter_plot.encode(x='id_cliente', y='id_localidad', color='cluster:N')"
      ],
      "execution_count": null,
      "outputs": []
    },
    {
      "cell_type": "code",
      "metadata": {
        "id": "w7PCPWegJQlY"
      },
      "source": [
        "#fig = plt.figure(figsize=(10,7))\n",
        "#ax = plt.axes(projection=\"3d\")\n",
        "#ax.scatter3D(consulta['id_cliente'], consulta['id_localidad'], consulta['id_nivel_riesgo'], c=y_preds, cmap='tab10')\n",
        "#plt.title('Client Clusters')\n",
        "#ax.set_xlabel('id_cliente')\n",
        "#ax.set_ylabel('id_localidad')\n",
        "#ax.set_zlabel('antiguedad')\n",
        "#plt.show()"
      ],
      "execution_count": null,
      "outputs": []
    }
  ]
}